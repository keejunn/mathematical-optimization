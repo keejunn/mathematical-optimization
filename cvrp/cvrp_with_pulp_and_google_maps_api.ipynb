{
 "cells": [
  {
   "cell_type": "markdown",
   "metadata": {},
   "source": [
    "#*CVRP:Capacitiated Vechicle Routing Problem*"
   ]
  },
  {
   "cell_type": "code",
   "execution_count": 212,
   "metadata": {},
   "outputs": [],
   "source": [
    "import numpy as np\n",
    "import pandas as pd\n",
    "import pulp\n",
    "import itertools\n",
    "import gmaps\n",
    "import googlemaps\n",
    "%matplotlib inline\n",
    "\n",
    "API_KEY = 'YOUR_API_KEY'\n",
    "gmaps.configure(api_key=API_KEY)\n",
    "googlemaps = googlemaps.Client(key=API_KEY)"
   ]
  },
  {
   "cell_type": "markdown",
   "metadata": {},
   "source": [
    "## *Make Dataframe and Plotting Generated Points*"
   ]
  },
  {
   "cell_type": "code",
   "execution_count": 181,
   "metadata": {},
   "outputs": [],
   "source": [
    "# vending machine count ('0' is depot) \n",
    "customer_count = 10\n",
    "\n",
    "# the number of vehicle\n",
    "vehicle_count = 4\n",
    "\n",
    "# the capacity of vehicle\n",
    "vehicle_capacity = 50\n",
    "\n",
    "# fix random seed\n",
    "np.random.seed(seed=0)\n",
    "\n",
    "# set depot latitude and longitude\n",
    "# depot is the university of tokyo\n",
    "depot_latitude = 35.712678\n",
    "depot_longitude = 139.761989 "
   ]
  },
  {
   "cell_type": "code",
   "execution_count": 182,
   "metadata": {},
   "outputs": [],
   "source": [
    "# make dataframe which contains vending machine location and demand\n",
    "df = pd.DataFrame({\"latitude\":np.random.normal(depot_latitude, 0.01, vending_machine_count), \n",
    "                   \"longitude\":np.random.normal(depot_longitude, 0.02, vending_machine_count), \n",
    "                   \"demand\":np.random.randint(10, 20, vending_machine_count)})\n",
    "\n",
    "# set the depot as the center and make demand 0 ('0' = depot)\n",
    "df.iloc[0].latitude = depot_latitude\n",
    "df.iloc[0].longitude = depot_longitude\n",
    "df.iloc[0].demand = 0"
   ]
  },
  {
   "cell_type": "code",
   "execution_count": 220,
   "metadata": {},
   "outputs": [],
   "source": [
    "def _plot_on_gmaps(_df):\n",
    "    \n",
    "    _marker_locations = []\n",
    "    for i in range(len(_df)):\n",
    "        _marker_locations.append((_df['latitude'].iloc[i],_df['longitude'].iloc[i]))\n",
    "    \n",
    "    _fig = gmaps.figure()\n",
    "    _markers = gmaps.marker_layer(_marker_locations)\n",
    "    _fig.add_layer(_markers)\n",
    "\n",
    "    return _fig"
   ]
  },
  {
   "cell_type": "code",
   "execution_count": 221,
   "metadata": {},
   "outputs": [
    {
     "data": {
      "application/vnd.jupyter.widget-view+json": {
       "model_id": "08eee0a721b6422797f6f4156d22b376",
       "version_major": 2,
       "version_minor": 0
      },
      "text/plain": [
       "Figure(layout=FigureLayout(height='420px'))"
      ]
     },
     "metadata": {},
     "output_type": "display_data"
    }
   ],
   "source": [
    "plot_result = _plot_on_gmaps(df)\n",
    "plot_result"
   ]
  },
  {
   "cell_type": "markdown",
   "metadata": {},
   "source": [
    "## *Calculate Distance of Each Point*\n",
    "- calculate real distance through google distace matrix"
   ]
  },
  {
   "cell_type": "code",
   "execution_count": 202,
   "metadata": {},
   "outputs": [],
   "source": [
    "def _distance_calculator(_df):\n",
    "    \n",
    "    _distance_result = np.zeros((len(_df),len(_df)))\n",
    "    for i in range(len(_df)):\n",
    "        _df['latitude-longitude'].iloc[i] = str(_df.latitude[i]) + ',' + str(_df.longitude[i])\n",
    "    \n",
    "    for i in range(len(_df)):\n",
    "        for j in range(len(_df)):\n",
    "            \n",
    "            # calculate distance of all pairs\n",
    "            _google_maps_api_result = googlemaps.directions(_df['latitude-longitude'].iloc[i],\n",
    "                                                            _df['latitude-longitude'].iloc[j],\n",
    "                                                            mode = 'driving')\n",
    "            # append distance to result list\n",
    "            _distance_result[i][j] = _google_maps_api_result[0]['legs'][0]['distance']['value']\n",
    "    \n",
    "    return _distance_result"
   ]
  },
  {
   "cell_type": "code",
   "execution_count": 203,
   "metadata": {},
   "outputs": [
    {
     "name": "stderr",
     "output_type": "stream",
     "text": [
      "/usr/local/lib/python3.7/site-packages/pandas/core/indexing.py:205: SettingWithCopyWarning: \n",
      "A value is trying to be set on a copy of a slice from a DataFrame\n",
      "\n",
      "See the caveats in the documentation: http://pandas.pydata.org/pandas-docs/stable/user_guide/indexing.html#returning-a-view-versus-a-copy\n",
      "  self._setitem_with_indexer(indexer, value)\n"
     ]
    }
   ],
   "source": [
    "distance = _distance_calculator(df)"
   ]
  },
  {
   "cell_type": "markdown",
   "metadata": {},
   "source": [
    "## *Solve CVRP problem with Pulp*"
   ]
  },
  {
   "cell_type": "code",
   "execution_count": 205,
   "metadata": {},
   "outputs": [
    {
     "name": "stdout",
     "output_type": "stream",
     "text": [
      "Vehicle Requirements: 3\n",
      "Moving Distance: 27329.0\n"
     ]
    }
   ],
   "source": [
    "for vehicle_count in range(1,vehicle_count+1):\n",
    "    \n",
    "    # definition of LpProblem instance\n",
    "    problem = pulp.LpProblem(\"CVRP\", pulp.LpMinimize)\n",
    "\n",
    "    # definition of variables which are 0/1\n",
    "    x = [[[pulp.LpVariable(\"x%s_%s,%s\"%(i,j,k), cat=\"Binary\") if i != j else None for k in range(vehicle_count)]for j in range(customer_count)] for i in range(customer_count)]\n",
    "\n",
    "    # add objective function\n",
    "    problem += pulp.lpSum(distance[i][j] * x[i][j][k] if i != j else 0\n",
    "                          for k in range(vehicle_count) \n",
    "                          for j in range(customer_count) \n",
    "                          for i in range (customer_count))\n",
    "\n",
    "    # constraints\n",
    "    # foluma (2)\n",
    "    for j in range(1, customer_count):\n",
    "        problem += pulp.lpSum(x[i][j][k] if i != j else 0 \n",
    "                              for i in range(customer_count) \n",
    "                              for k in range(vehicle_count)) == 1 \n",
    "\n",
    "    # foluma (3)\n",
    "    for k in range(vehicle_count):\n",
    "        problem += pulp.lpSum(x[0][j][k] for j in range(1,customer_count)) == 1\n",
    "        problem += pulp.lpSum(x[i][0][k] for i in range(1,customer_count)) == 1\n",
    "\n",
    "    # foluma (4)\n",
    "    for k in range(vehicle_count):\n",
    "        for j in range(customer_count):\n",
    "            problem += pulp.lpSum(x[i][j][k] if i != j else 0 \n",
    "                                  for i in range(customer_count)) -  pulp.lpSum(x[j][i][k] for i in range(customer_count)) == 0\n",
    "\n",
    "    #foluma (5)\n",
    "    for k in range(vehicle_count):\n",
    "        problem += pulp.lpSum(df.demand[j] * x[i][j][k] if i != j else 0 for i in range(customer_count) for j in range (1,customer_count)) <= vehicle_capacity \n",
    "\n",
    "\n",
    "    # fomula (6)\n",
    "    subtours = []\n",
    "    for i in range(2,customer_count):\n",
    "         subtours += itertools.combinations(range(1,customer_count), i)\n",
    "\n",
    "    for s in subtours:\n",
    "        problem += pulp.lpSum(x[i][j][k] if i !=j else 0 for i, j in itertools.permutations(s,2) for k in range(vehicle_count)) <= len(s) - 1\n",
    "\n",
    "    \n",
    "    # print vehicle_count which needed for solving problem\n",
    "    # print calculated minimum distance value\n",
    "    if problem.solve() == 1:\n",
    "        print('Vehicle Requirements:', vehicle_count)\n",
    "        print('Moving Distance:', pulp.value(problem.objective))\n",
    "        break"
   ]
  },
  {
   "cell_type": "markdown",
   "metadata": {},
   "source": [
    "## *Visualization of Optimized Result*"
   ]
  },
  {
   "cell_type": "code",
   "execution_count": 214,
   "metadata": {},
   "outputs": [],
   "source": [
    "fig = gmaps.figure()\n",
    "layer = []\n",
    "color_list = [\"red\",\"blue\",\"green\"]\n",
    "\n",
    "for k in range(vehicle_count):\n",
    "    for i in range(customer_count):\n",
    "        for j in range(customer_count):\n",
    "            if i != j and pulp.value(x[i][j][k]) == 1:\n",
    "                layer.append(gmaps.directions.Directions(\n",
    "                    (df.latitude[i],df.longitude[i]),\n",
    "                    (df.latitude[j],df.longitude[j]),\n",
    "                    mode='car',stroke_color=color_list[k],stroke_opacity=1.0, stroke_weight=5.0))"
   ]
  },
  {
   "cell_type": "code",
   "execution_count": 217,
   "metadata": {},
   "outputs": [
    {
     "data": {
      "application/vnd.jupyter.widget-view+json": {
       "model_id": "af2e1ee924cf44adab05d4e9a1fbc987",
       "version_major": 2,
       "version_minor": 0
      },
      "text/plain": [
       "Figure(layout=FigureLayout(height='420px'))"
      ]
     },
     "metadata": {},
     "output_type": "display_data"
    }
   ],
   "source": [
    "for i in range(len(layer)):\n",
    "    fig.add_layer(layer[i])\n",
    "    \n",
    "fig"
   ]
  },
  {
   "cell_type": "code",
   "execution_count": 231,
   "metadata": {},
   "outputs": [
    {
     "data": {
      "image/png": "[encoded data removed]",
      "text/plain": [
       "<Figure size 576x576 with 1 Axes>"
      ]
     },
     "metadata": {
      "needs_background": "light"
     },
     "output_type": "display_data"
    }
   ],
   "source": [
    "plt.figure(figsize=(8,8))\n",
    "for i in range(customer_count):    \n",
    "    if i == 0:\n",
    "        plt.scatter(df.latitude[i], df.longitude[i], c='green', s=200)\n",
    "        plt.text(df.latitude[i], df.longitude[i], \"depot\", fontsize=12)\n",
    "    else:\n",
    "        plt.scatter(df.latitude[i], df.longitude[i], c='orange', s=200)\n",
    "        plt.text(df.latitude[i], df.longitude[i], str(df.demand[i]), fontsize=12)\n",
    "\n",
    "plt.xlim(35.7,35.74)\n",
    "plt.ylim(139.73,139.80)\n",
    "\n",
    "for k in range(vehicle_count):\n",
    "    for i in range(customer_count):\n",
    "        for j in range(customer_count):\n",
    "            if i != j and pulp.value(x[i][j][k]) == 1:\n",
    "                plt.plot([df.latitude[i], df.latitude[j]], [df.longitude[i], df.longitude[j]], c=\"black\")\n",
    "\n",
    "plt.show()"
   ]
  }
 ],
 "metadata": {
  "jupytext": {
   "formats": "ipynb,py"
  },
  "kernelspec": {
   "display_name": "Python 3",
   "language": "python",
   "name": "python3"
  },
  "language_info": {
   "codemirror_mode": {
    "name": "ipython",
    "version": 3
   },
   "file_extension": ".py",
   "mimetype": "text/x-python",
   "name": "python",
   "nbconvert_exporter": "python",
   "pygments_lexer": "ipython3",
   "version": "3.7.5"
  }
 },
 "nbformat": 4,
 "nbformat_minor": 2
}
